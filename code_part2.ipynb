{
 "cells": [
  {
   "cell_type": "code",
   "execution_count": 1,
   "metadata": {},
   "outputs": [],
   "source": [
    "import numpy as np\n",
    "import pandas as pd\n",
    "import matplotlib\n",
    "import matplotlib.pyplot as plt\n",
    "import sklearn\n",
    "from distutils.version import LooseVersion as Version\n",
    "from sklearn import __version__ as sklearn_version\n",
    "from IPython.display import Image\n",
    "%matplotlib inline"
   ]
  },
  {
   "cell_type": "code",
   "execution_count": 2,
   "metadata": {},
   "outputs": [],
   "source": [
    "listings = pd.read_csv('cleaned_listings.csv')"
   ]
  },
  {
   "cell_type": "code",
   "execution_count": 3,
   "metadata": {},
   "outputs": [
    {
     "data": {
      "text/html": [
       "<div>\n",
       "<style scoped>\n",
       "    .dataframe tbody tr th:only-of-type {\n",
       "        vertical-align: middle;\n",
       "    }\n",
       "\n",
       "    .dataframe tbody tr th {\n",
       "        vertical-align: top;\n",
       "    }\n",
       "\n",
       "    .dataframe thead th {\n",
       "        text-align: right;\n",
       "    }\n",
       "</style>\n",
       "<table border=\"1\" class=\"dataframe\">\n",
       "  <thead>\n",
       "    <tr style=\"text-align: right;\">\n",
       "      <th></th>\n",
       "      <th>id</th>\n",
       "      <th>name</th>\n",
       "      <th>host_id</th>\n",
       "      <th>host_name</th>\n",
       "      <th>neighbourhood_group</th>\n",
       "      <th>neighbourhood</th>\n",
       "      <th>latitude</th>\n",
       "      <th>longitude</th>\n",
       "      <th>room_type</th>\n",
       "      <th>price</th>\n",
       "      <th>minimum_nights</th>\n",
       "      <th>number_of_reviews</th>\n",
       "      <th>last_review</th>\n",
       "      <th>reviews_per_month</th>\n",
       "      <th>calculated_host_listings_count</th>\n",
       "      <th>availability_365</th>\n",
       "    </tr>\n",
       "  </thead>\n",
       "  <tbody>\n",
       "    <tr>\n",
       "      <th>0</th>\n",
       "      <td>2318</td>\n",
       "      <td>Casa Madrona - Urban Oasis 1 block from the park!</td>\n",
       "      <td>2536</td>\n",
       "      <td>Megan</td>\n",
       "      <td>Central Area</td>\n",
       "      <td>Madrona</td>\n",
       "      <td>47.61082</td>\n",
       "      <td>-122.29082</td>\n",
       "      <td>Entire home/apt</td>\n",
       "      <td>296</td>\n",
       "      <td>7</td>\n",
       "      <td>29</td>\n",
       "      <td>2019/10/31</td>\n",
       "      <td>0.21</td>\n",
       "      <td>2</td>\n",
       "      <td>59</td>\n",
       "    </tr>\n",
       "    <tr>\n",
       "      <th>1</th>\n",
       "      <td>5682</td>\n",
       "      <td>Cozy Studio, min. to downtown -WiFi</td>\n",
       "      <td>8993</td>\n",
       "      <td>Maddy</td>\n",
       "      <td>Delridge</td>\n",
       "      <td>South Delridge</td>\n",
       "      <td>47.52398</td>\n",
       "      <td>-122.35989</td>\n",
       "      <td>Entire home/apt</td>\n",
       "      <td>48</td>\n",
       "      <td>3</td>\n",
       "      <td>462</td>\n",
       "      <td>2018/11/24</td>\n",
       "      <td>3.92</td>\n",
       "      <td>1</td>\n",
       "      <td>0</td>\n",
       "    </tr>\n",
       "    <tr>\n",
       "      <th>2</th>\n",
       "      <td>6606</td>\n",
       "      <td>Fab, private seattle urban cottage!</td>\n",
       "      <td>14942</td>\n",
       "      <td>Joyce</td>\n",
       "      <td>Other neighborhoods</td>\n",
       "      <td>Wallingford</td>\n",
       "      <td>47.65411</td>\n",
       "      <td>-122.33761</td>\n",
       "      <td>Entire home/apt</td>\n",
       "      <td>90</td>\n",
       "      <td>2</td>\n",
       "      <td>150</td>\n",
       "      <td>2019/9/28</td>\n",
       "      <td>1.19</td>\n",
       "      <td>3</td>\n",
       "      <td>49</td>\n",
       "    </tr>\n",
       "    <tr>\n",
       "      <th>3</th>\n",
       "      <td>9419</td>\n",
       "      <td>Glorious sun room w/ memory foambed</td>\n",
       "      <td>30559</td>\n",
       "      <td>Angielena</td>\n",
       "      <td>Other neighborhoods</td>\n",
       "      <td>Georgetown</td>\n",
       "      <td>47.55062</td>\n",
       "      <td>-122.32014</td>\n",
       "      <td>Private room</td>\n",
       "      <td>62</td>\n",
       "      <td>2</td>\n",
       "      <td>146</td>\n",
       "      <td>2019/10/22</td>\n",
       "      <td>1.29</td>\n",
       "      <td>8</td>\n",
       "      <td>359</td>\n",
       "    </tr>\n",
       "    <tr>\n",
       "      <th>4</th>\n",
       "      <td>9460</td>\n",
       "      <td>Downtown Convention Center B&amp;B -- Free Minibar</td>\n",
       "      <td>30832</td>\n",
       "      <td>Siena</td>\n",
       "      <td>Downtown</td>\n",
       "      <td>First Hill</td>\n",
       "      <td>47.61265</td>\n",
       "      <td>-122.32936</td>\n",
       "      <td>Private room</td>\n",
       "      <td>99</td>\n",
       "      <td>3</td>\n",
       "      <td>455</td>\n",
       "      <td>2019/11/9</td>\n",
       "      <td>3.65</td>\n",
       "      <td>4</td>\n",
       "      <td>138</td>\n",
       "    </tr>\n",
       "    <tr>\n",
       "      <th>...</th>\n",
       "      <td>...</td>\n",
       "      <td>...</td>\n",
       "      <td>...</td>\n",
       "      <td>...</td>\n",
       "      <td>...</td>\n",
       "      <td>...</td>\n",
       "      <td>...</td>\n",
       "      <td>...</td>\n",
       "      <td>...</td>\n",
       "      <td>...</td>\n",
       "      <td>...</td>\n",
       "      <td>...</td>\n",
       "      <td>...</td>\n",
       "      <td>...</td>\n",
       "      <td>...</td>\n",
       "      <td>...</td>\n",
       "    </tr>\n",
       "    <tr>\n",
       "      <th>8789</th>\n",
       "      <td>40176359</td>\n",
       "      <td>2 clean private rooms big window in North Seattle</td>\n",
       "      <td>7435040</td>\n",
       "      <td>Chengying</td>\n",
       "      <td>Northgate</td>\n",
       "      <td>Haller Lake</td>\n",
       "      <td>47.72269</td>\n",
       "      <td>-122.33539</td>\n",
       "      <td>Private room</td>\n",
       "      <td>80</td>\n",
       "      <td>2</td>\n",
       "      <td>0</td>\n",
       "      <td>NaN</td>\n",
       "      <td>NaN</td>\n",
       "      <td>8</td>\n",
       "      <td>234</td>\n",
       "    </tr>\n",
       "    <tr>\n",
       "      <th>8790</th>\n",
       "      <td>40183149</td>\n",
       "      <td>Laurel's House</td>\n",
       "      <td>21013086</td>\n",
       "      <td>Ron Paul</td>\n",
       "      <td>Other neighborhoods</td>\n",
       "      <td>Fremont</td>\n",
       "      <td>47.65662</td>\n",
       "      <td>-122.34548</td>\n",
       "      <td>Entire home/apt</td>\n",
       "      <td>60</td>\n",
       "      <td>30</td>\n",
       "      <td>0</td>\n",
       "      <td>NaN</td>\n",
       "      <td>NaN</td>\n",
       "      <td>2</td>\n",
       "      <td>176</td>\n",
       "    </tr>\n",
       "    <tr>\n",
       "      <th>8791</th>\n",
       "      <td>40183377</td>\n",
       "      <td>Entire House *Walker’s Pradise*Good Transit</td>\n",
       "      <td>289666185</td>\n",
       "      <td>Nhat</td>\n",
       "      <td>Rainier Valley</td>\n",
       "      <td>Columbia City</td>\n",
       "      <td>47.56200</td>\n",
       "      <td>-122.29087</td>\n",
       "      <td>Entire home/apt</td>\n",
       "      <td>89</td>\n",
       "      <td>1</td>\n",
       "      <td>0</td>\n",
       "      <td>NaN</td>\n",
       "      <td>NaN</td>\n",
       "      <td>1</td>\n",
       "      <td>356</td>\n",
       "    </tr>\n",
       "    <tr>\n",
       "      <th>8792</th>\n",
       "      <td>40197071</td>\n",
       "      <td>Steps to Pike Place and Gum Wall</td>\n",
       "      <td>226137890</td>\n",
       "      <td>Xenia</td>\n",
       "      <td>Downtown</td>\n",
       "      <td>Pike-Market</td>\n",
       "      <td>47.60866</td>\n",
       "      <td>-122.33936</td>\n",
       "      <td>Entire home/apt</td>\n",
       "      <td>107</td>\n",
       "      <td>1</td>\n",
       "      <td>0</td>\n",
       "      <td>NaN</td>\n",
       "      <td>NaN</td>\n",
       "      <td>11</td>\n",
       "      <td>25</td>\n",
       "    </tr>\n",
       "    <tr>\n",
       "      <th>8793</th>\n",
       "      <td>40261634</td>\n",
       "      <td>Seattle home that’s close to everything</td>\n",
       "      <td>310961317</td>\n",
       "      <td>Jeffrey</td>\n",
       "      <td>West Seattle</td>\n",
       "      <td>Fairmount Park</td>\n",
       "      <td>47.54959</td>\n",
       "      <td>-122.37772</td>\n",
       "      <td>Entire home/apt</td>\n",
       "      <td>120</td>\n",
       "      <td>1</td>\n",
       "      <td>0</td>\n",
       "      <td>NaN</td>\n",
       "      <td>NaN</td>\n",
       "      <td>1</td>\n",
       "      <td>173</td>\n",
       "    </tr>\n",
       "  </tbody>\n",
       "</table>\n",
       "<p>8794 rows × 16 columns</p>\n",
       "</div>"
      ],
      "text/plain": [
       "            id                                               name    host_id  \\\n",
       "0         2318  Casa Madrona - Urban Oasis 1 block from the park!       2536   \n",
       "1         5682                Cozy Studio, min. to downtown -WiFi       8993   \n",
       "2         6606                Fab, private seattle urban cottage!      14942   \n",
       "3         9419                Glorious sun room w/ memory foambed      30559   \n",
       "4         9460     Downtown Convention Center B&B -- Free Minibar      30832   \n",
       "...        ...                                                ...        ...   \n",
       "8789  40176359  2 clean private rooms big window in North Seattle    7435040   \n",
       "8790  40183149                                     Laurel's House   21013086   \n",
       "8791  40183377       Entire House *Walker’s Pradise*Good Transit   289666185   \n",
       "8792  40197071                   Steps to Pike Place and Gum Wall  226137890   \n",
       "8793  40261634            Seattle home that’s close to everything  310961317   \n",
       "\n",
       "      host_name  neighbourhood_group   neighbourhood  latitude  longitude  \\\n",
       "0         Megan         Central Area         Madrona  47.61082 -122.29082   \n",
       "1         Maddy             Delridge  South Delridge  47.52398 -122.35989   \n",
       "2         Joyce  Other neighborhoods     Wallingford  47.65411 -122.33761   \n",
       "3     Angielena  Other neighborhoods      Georgetown  47.55062 -122.32014   \n",
       "4         Siena             Downtown      First Hill  47.61265 -122.32936   \n",
       "...         ...                  ...             ...       ...        ...   \n",
       "8789  Chengying            Northgate     Haller Lake  47.72269 -122.33539   \n",
       "8790   Ron Paul  Other neighborhoods         Fremont  47.65662 -122.34548   \n",
       "8791       Nhat       Rainier Valley   Columbia City  47.56200 -122.29087   \n",
       "8792      Xenia             Downtown     Pike-Market  47.60866 -122.33936   \n",
       "8793    Jeffrey         West Seattle  Fairmount Park  47.54959 -122.37772   \n",
       "\n",
       "            room_type  price  minimum_nights  number_of_reviews last_review  \\\n",
       "0     Entire home/apt    296               7                 29  2019/10/31   \n",
       "1     Entire home/apt     48               3                462  2018/11/24   \n",
       "2     Entire home/apt     90               2                150   2019/9/28   \n",
       "3        Private room     62               2                146  2019/10/22   \n",
       "4        Private room     99               3                455   2019/11/9   \n",
       "...               ...    ...             ...                ...         ...   \n",
       "8789     Private room     80               2                  0         NaN   \n",
       "8790  Entire home/apt     60              30                  0         NaN   \n",
       "8791  Entire home/apt     89               1                  0         NaN   \n",
       "8792  Entire home/apt    107               1                  0         NaN   \n",
       "8793  Entire home/apt    120               1                  0         NaN   \n",
       "\n",
       "      reviews_per_month  calculated_host_listings_count  availability_365  \n",
       "0                  0.21                               2                59  \n",
       "1                  3.92                               1                 0  \n",
       "2                  1.19                               3                49  \n",
       "3                  1.29                               8               359  \n",
       "4                  3.65                               4               138  \n",
       "...                 ...                             ...               ...  \n",
       "8789                NaN                               8               234  \n",
       "8790                NaN                               2               176  \n",
       "8791                NaN                               1               356  \n",
       "8792                NaN                              11                25  \n",
       "8793                NaN                               1               173  \n",
       "\n",
       "[8794 rows x 16 columns]"
      ]
     },
     "execution_count": 3,
     "metadata": {},
     "output_type": "execute_result"
    }
   ],
   "source": [
    "listings"
   ]
  },
  {
   "cell_type": "code",
   "execution_count": 4,
   "metadata": {},
   "outputs": [
    {
     "data": {
      "text/plain": [
       "array(['id', 'name', 'host_id', 'host_name', 'neighbourhood_group',\n",
       "       'neighbourhood', 'latitude', 'longitude', 'room_type', 'price',\n",
       "       'minimum_nights', 'number_of_reviews', 'last_review',\n",
       "       'reviews_per_month', 'calculated_host_listings_count',\n",
       "       'availability_365'], dtype=object)"
      ]
     },
     "execution_count": 4,
     "metadata": {},
     "output_type": "execute_result"
    }
   ],
   "source": [
    "listings.columns.values"
   ]
  },
  {
   "cell_type": "code",
   "execution_count": 5,
   "metadata": {},
   "outputs": [],
   "source": [
    "df = listings[[\"neighbourhood_group\", \"room_type\", \"price\", \"minimum_nights\", \"number_of_reviews\", \"reviews_per_month\", \"availability_365\"]]"
   ]
  },
  {
   "cell_type": "code",
   "execution_count": 6,
   "metadata": {},
   "outputs": [
    {
     "data": {
      "text/html": [
       "<div>\n",
       "<style scoped>\n",
       "    .dataframe tbody tr th:only-of-type {\n",
       "        vertical-align: middle;\n",
       "    }\n",
       "\n",
       "    .dataframe tbody tr th {\n",
       "        vertical-align: top;\n",
       "    }\n",
       "\n",
       "    .dataframe thead th {\n",
       "        text-align: right;\n",
       "    }\n",
       "</style>\n",
       "<table border=\"1\" class=\"dataframe\">\n",
       "  <thead>\n",
       "    <tr style=\"text-align: right;\">\n",
       "      <th></th>\n",
       "      <th>neighbourhood_group</th>\n",
       "      <th>room_type</th>\n",
       "      <th>price</th>\n",
       "      <th>minimum_nights</th>\n",
       "      <th>number_of_reviews</th>\n",
       "      <th>reviews_per_month</th>\n",
       "      <th>availability_365</th>\n",
       "    </tr>\n",
       "  </thead>\n",
       "  <tbody>\n",
       "    <tr>\n",
       "      <th>0</th>\n",
       "      <td>Central Area</td>\n",
       "      <td>Entire home/apt</td>\n",
       "      <td>296</td>\n",
       "      <td>7</td>\n",
       "      <td>29</td>\n",
       "      <td>0.21</td>\n",
       "      <td>59</td>\n",
       "    </tr>\n",
       "    <tr>\n",
       "      <th>1</th>\n",
       "      <td>Delridge</td>\n",
       "      <td>Entire home/apt</td>\n",
       "      <td>48</td>\n",
       "      <td>3</td>\n",
       "      <td>462</td>\n",
       "      <td>3.92</td>\n",
       "      <td>0</td>\n",
       "    </tr>\n",
       "    <tr>\n",
       "      <th>2</th>\n",
       "      <td>Other neighborhoods</td>\n",
       "      <td>Entire home/apt</td>\n",
       "      <td>90</td>\n",
       "      <td>2</td>\n",
       "      <td>150</td>\n",
       "      <td>1.19</td>\n",
       "      <td>49</td>\n",
       "    </tr>\n",
       "    <tr>\n",
       "      <th>3</th>\n",
       "      <td>Other neighborhoods</td>\n",
       "      <td>Private room</td>\n",
       "      <td>62</td>\n",
       "      <td>2</td>\n",
       "      <td>146</td>\n",
       "      <td>1.29</td>\n",
       "      <td>359</td>\n",
       "    </tr>\n",
       "    <tr>\n",
       "      <th>4</th>\n",
       "      <td>Downtown</td>\n",
       "      <td>Private room</td>\n",
       "      <td>99</td>\n",
       "      <td>3</td>\n",
       "      <td>455</td>\n",
       "      <td>3.65</td>\n",
       "      <td>138</td>\n",
       "    </tr>\n",
       "  </tbody>\n",
       "</table>\n",
       "</div>"
      ],
      "text/plain": [
       "   neighbourhood_group        room_type  price  minimum_nights  \\\n",
       "0         Central Area  Entire home/apt    296               7   \n",
       "1             Delridge  Entire home/apt     48               3   \n",
       "2  Other neighborhoods  Entire home/apt     90               2   \n",
       "3  Other neighborhoods     Private room     62               2   \n",
       "4             Downtown     Private room     99               3   \n",
       "\n",
       "   number_of_reviews  reviews_per_month  availability_365  \n",
       "0                 29               0.21                59  \n",
       "1                462               3.92                 0  \n",
       "2                150               1.19                49  \n",
       "3                146               1.29               359  \n",
       "4                455               3.65               138  "
      ]
     },
     "execution_count": 6,
     "metadata": {},
     "output_type": "execute_result"
    }
   ],
   "source": [
    "df.head()"
   ]
  },
  {
   "cell_type": "code",
   "execution_count": 7,
   "metadata": {},
   "outputs": [
    {
     "data": {
      "text/plain": [
       "neighbourhood_group     0.000000\n",
       "room_type               0.000000\n",
       "price                   0.000000\n",
       "minimum_nights          0.000000\n",
       "number_of_reviews       0.000000\n",
       "reviews_per_month      13.475097\n",
       "availability_365        0.000000\n",
       "dtype: float64"
      ]
     },
     "execution_count": 7,
     "metadata": {},
     "output_type": "execute_result"
    }
   ],
   "source": [
    "(len(df)-df.count())/len(df)*100"
   ]
  },
  {
   "cell_type": "code",
   "execution_count": 8,
   "metadata": {},
   "outputs": [],
   "source": [
    "#Only reviews_per_month has NaN value"
   ]
  },
  {
   "cell_type": "code",
   "execution_count": 9,
   "metadata": {},
   "outputs": [],
   "source": [
    "df2 = df.drop(columns='reviews_per_month')"
   ]
  },
  {
   "cell_type": "code",
   "execution_count": 10,
   "metadata": {},
   "outputs": [
    {
     "data": {
      "text/html": [
       "<div>\n",
       "<style scoped>\n",
       "    .dataframe tbody tr th:only-of-type {\n",
       "        vertical-align: middle;\n",
       "    }\n",
       "\n",
       "    .dataframe tbody tr th {\n",
       "        vertical-align: top;\n",
       "    }\n",
       "\n",
       "    .dataframe thead th {\n",
       "        text-align: right;\n",
       "    }\n",
       "</style>\n",
       "<table border=\"1\" class=\"dataframe\">\n",
       "  <thead>\n",
       "    <tr style=\"text-align: right;\">\n",
       "      <th></th>\n",
       "      <th>neighbourhood_group</th>\n",
       "      <th>room_type</th>\n",
       "      <th>price</th>\n",
       "      <th>minimum_nights</th>\n",
       "      <th>number_of_reviews</th>\n",
       "      <th>availability_365</th>\n",
       "    </tr>\n",
       "  </thead>\n",
       "  <tbody>\n",
       "    <tr>\n",
       "      <th>0</th>\n",
       "      <td>Central Area</td>\n",
       "      <td>Entire home/apt</td>\n",
       "      <td>296</td>\n",
       "      <td>7</td>\n",
       "      <td>29</td>\n",
       "      <td>59</td>\n",
       "    </tr>\n",
       "    <tr>\n",
       "      <th>1</th>\n",
       "      <td>Delridge</td>\n",
       "      <td>Entire home/apt</td>\n",
       "      <td>48</td>\n",
       "      <td>3</td>\n",
       "      <td>462</td>\n",
       "      <td>0</td>\n",
       "    </tr>\n",
       "    <tr>\n",
       "      <th>2</th>\n",
       "      <td>Other neighborhoods</td>\n",
       "      <td>Entire home/apt</td>\n",
       "      <td>90</td>\n",
       "      <td>2</td>\n",
       "      <td>150</td>\n",
       "      <td>49</td>\n",
       "    </tr>\n",
       "    <tr>\n",
       "      <th>3</th>\n",
       "      <td>Other neighborhoods</td>\n",
       "      <td>Private room</td>\n",
       "      <td>62</td>\n",
       "      <td>2</td>\n",
       "      <td>146</td>\n",
       "      <td>359</td>\n",
       "    </tr>\n",
       "    <tr>\n",
       "      <th>4</th>\n",
       "      <td>Downtown</td>\n",
       "      <td>Private room</td>\n",
       "      <td>99</td>\n",
       "      <td>3</td>\n",
       "      <td>455</td>\n",
       "      <td>138</td>\n",
       "    </tr>\n",
       "    <tr>\n",
       "      <th>...</th>\n",
       "      <td>...</td>\n",
       "      <td>...</td>\n",
       "      <td>...</td>\n",
       "      <td>...</td>\n",
       "      <td>...</td>\n",
       "      <td>...</td>\n",
       "    </tr>\n",
       "    <tr>\n",
       "      <th>8789</th>\n",
       "      <td>Northgate</td>\n",
       "      <td>Private room</td>\n",
       "      <td>80</td>\n",
       "      <td>2</td>\n",
       "      <td>0</td>\n",
       "      <td>234</td>\n",
       "    </tr>\n",
       "    <tr>\n",
       "      <th>8790</th>\n",
       "      <td>Other neighborhoods</td>\n",
       "      <td>Entire home/apt</td>\n",
       "      <td>60</td>\n",
       "      <td>30</td>\n",
       "      <td>0</td>\n",
       "      <td>176</td>\n",
       "    </tr>\n",
       "    <tr>\n",
       "      <th>8791</th>\n",
       "      <td>Rainier Valley</td>\n",
       "      <td>Entire home/apt</td>\n",
       "      <td>89</td>\n",
       "      <td>1</td>\n",
       "      <td>0</td>\n",
       "      <td>356</td>\n",
       "    </tr>\n",
       "    <tr>\n",
       "      <th>8792</th>\n",
       "      <td>Downtown</td>\n",
       "      <td>Entire home/apt</td>\n",
       "      <td>107</td>\n",
       "      <td>1</td>\n",
       "      <td>0</td>\n",
       "      <td>25</td>\n",
       "    </tr>\n",
       "    <tr>\n",
       "      <th>8793</th>\n",
       "      <td>West Seattle</td>\n",
       "      <td>Entire home/apt</td>\n",
       "      <td>120</td>\n",
       "      <td>1</td>\n",
       "      <td>0</td>\n",
       "      <td>173</td>\n",
       "    </tr>\n",
       "  </tbody>\n",
       "</table>\n",
       "<p>8794 rows × 6 columns</p>\n",
       "</div>"
      ],
      "text/plain": [
       "      neighbourhood_group        room_type  price  minimum_nights  \\\n",
       "0            Central Area  Entire home/apt    296               7   \n",
       "1                Delridge  Entire home/apt     48               3   \n",
       "2     Other neighborhoods  Entire home/apt     90               2   \n",
       "3     Other neighborhoods     Private room     62               2   \n",
       "4                Downtown     Private room     99               3   \n",
       "...                   ...              ...    ...             ...   \n",
       "8789            Northgate     Private room     80               2   \n",
       "8790  Other neighborhoods  Entire home/apt     60              30   \n",
       "8791       Rainier Valley  Entire home/apt     89               1   \n",
       "8792             Downtown  Entire home/apt    107               1   \n",
       "8793         West Seattle  Entire home/apt    120               1   \n",
       "\n",
       "      number_of_reviews  availability_365  \n",
       "0                    29                59  \n",
       "1                   462                 0  \n",
       "2                   150                49  \n",
       "3                   146               359  \n",
       "4                   455               138  \n",
       "...                 ...               ...  \n",
       "8789                  0               234  \n",
       "8790                  0               176  \n",
       "8791                  0               356  \n",
       "8792                  0                25  \n",
       "8793                  0               173  \n",
       "\n",
       "[8794 rows x 6 columns]"
      ]
     },
     "execution_count": 10,
     "metadata": {},
     "output_type": "execute_result"
    }
   ],
   "source": [
    "df2"
   ]
  },
  {
   "cell_type": "code",
   "execution_count": 11,
   "metadata": {},
   "outputs": [
    {
     "data": {
      "text/plain": [
       "neighbourhood_group    object\n",
       "room_type              object\n",
       "price                   int64\n",
       "minimum_nights          int64\n",
       "number_of_reviews       int64\n",
       "availability_365        int64\n",
       "dtype: object"
      ]
     },
     "execution_count": 11,
     "metadata": {},
     "output_type": "execute_result"
    }
   ],
   "source": [
    "df2.dtypes"
   ]
  },
  {
   "cell_type": "code",
   "execution_count": 12,
   "metadata": {},
   "outputs": [],
   "source": [
    "df2.columns = df2.columns.str.strip()\n",
    "df2['neighbourhood_group'] = df2['neighbourhood_group'].astype(str) \n",
    "df2['room_type'] = df2['room_type'].astype(str)"
   ]
  },
  {
   "cell_type": "code",
   "execution_count": 13,
   "metadata": {},
   "outputs": [
    {
     "data": {
      "text/plain": [
       "neighbourhood_group    object\n",
       "room_type              object\n",
       "price                   int64\n",
       "minimum_nights          int64\n",
       "number_of_reviews       int64\n",
       "availability_365        int64\n",
       "dtype: object"
      ]
     },
     "execution_count": 13,
     "metadata": {},
     "output_type": "execute_result"
    }
   ],
   "source": [
    "df2.dtypes"
   ]
  },
  {
   "cell_type": "code",
   "execution_count": 14,
   "metadata": {},
   "outputs": [
    {
     "data": {
      "text/plain": [
       "0              Central Area\n",
       "1                  Delridge\n",
       "2       Other neighborhoods\n",
       "3       Other neighborhoods\n",
       "4                  Downtown\n",
       "               ...         \n",
       "8789              Northgate\n",
       "8790    Other neighborhoods\n",
       "8791         Rainier Valley\n",
       "8792               Downtown\n",
       "8793           West Seattle\n",
       "Name: neighbourhood_group, Length: 8794, dtype: object"
      ]
     },
     "execution_count": 14,
     "metadata": {},
     "output_type": "execute_result"
    }
   ],
   "source": [
    "df2[\"neighbourhood_group\"]"
   ]
  },
  {
   "cell_type": "code",
   "execution_count": 15,
   "metadata": {},
   "outputs": [
    {
     "data": {
      "text/plain": [
       "array(['Central Area', 'Delridge', 'Other neighborhoods', 'Downtown',\n",
       "       'West Seattle', 'Ballard', 'Capitol Hill', 'Cascade',\n",
       "       'Beacon Hill', 'Seward Park', 'Northgate', 'Queen Anne',\n",
       "       'Rainier Valley', 'Magnolia', 'Lake City', 'University District',\n",
       "       'Interbay'], dtype=object)"
      ]
     },
     "execution_count": 15,
     "metadata": {},
     "output_type": "execute_result"
    }
   ],
   "source": [
    "df2.neighbourhood_group.unique()"
   ]
  },
  {
   "cell_type": "code",
   "execution_count": 16,
   "metadata": {},
   "outputs": [],
   "source": [
    "neighbourhood_count = {}\n",
    "neighbourhood_price = {}\n",
    "for row in df2.itertuples():\n",
    "    if(row[1] in neighbourhood_count):\n",
    "        neighbourhood_count[row[1]] += 1\n",
    "    if(row[1] not in neighbourhood_count):\n",
    "        neighbourhood_count[row[1]] = 0\n",
    "    if(row[1] in neighbourhood_price):\n",
    "        neighbourhood_price[row[1]] += row[3]\n",
    "    if(row[1] not in neighbourhood_price):\n",
    "        neighbourhood_price[row[1]] = 0\n",
    "        neighbourhood_price[row[1]] += row[3]"
   ]
  },
  {
   "cell_type": "code",
   "execution_count": 17,
   "metadata": {},
   "outputs": [
    {
     "data": {
      "text/plain": [
       "{'Central Area': 781,\n",
       " 'Delridge': 267,\n",
       " 'Other neighborhoods': 1635,\n",
       " 'Downtown': 1521,\n",
       " 'West Seattle': 482,\n",
       " 'Ballard': 453,\n",
       " 'Capitol Hill': 915,\n",
       " 'Cascade': 418,\n",
       " 'Beacon Hill': 322,\n",
       " 'Seward Park': 83,\n",
       " 'Northgate': 220,\n",
       " 'Queen Anne': 644,\n",
       " 'Rainier Valley': 431,\n",
       " 'Magnolia': 163,\n",
       " 'Lake City': 148,\n",
       " 'University District': 255,\n",
       " 'Interbay': 39}"
      ]
     },
     "execution_count": 17,
     "metadata": {},
     "output_type": "execute_result"
    }
   ],
   "source": [
    "neighbourhood_count"
   ]
  },
  {
   "cell_type": "code",
   "execution_count": 18,
   "metadata": {},
   "outputs": [
    {
     "data": {
      "text/plain": [
       "{'Central Area': 118653,\n",
       " 'Delridge': 26305,\n",
       " 'Other neighborhoods': 201511,\n",
       " 'Downtown': 285197,\n",
       " 'West Seattle': 68165,\n",
       " 'Ballard': 68763,\n",
       " 'Capitol Hill': 136144,\n",
       " 'Cascade': 70077,\n",
       " 'Beacon Hill': 36154,\n",
       " 'Seward Park': 10740,\n",
       " 'Northgate': 20754,\n",
       " 'Queen Anne': 119643,\n",
       " 'Rainier Valley': 52207,\n",
       " 'Magnolia': 27655,\n",
       " 'Lake City': 18717,\n",
       " 'University District': 27320,\n",
       " 'Interbay': 4213}"
      ]
     },
     "execution_count": 18,
     "metadata": {},
     "output_type": "execute_result"
    }
   ],
   "source": [
    "neighbourhood_price"
   ]
  },
  {
   "cell_type": "code",
   "execution_count": 19,
   "metadata": {},
   "outputs": [
    {
     "data": {
      "text/plain": [
       "{'Central Area': 151.92445582586427,\n",
       " 'Delridge': 98.52059925093633,\n",
       " 'Other neighborhoods': 123.24831804281345,\n",
       " 'Downtown': 187.50624589086127,\n",
       " 'West Seattle': 141.42116182572613,\n",
       " 'Ballard': 151.79470198675497,\n",
       " 'Capitol Hill': 148.7912568306011,\n",
       " 'Cascade': 167.64832535885168,\n",
       " 'Beacon Hill': 112.27950310559007,\n",
       " 'Seward Park': 129.3975903614458,\n",
       " 'Northgate': 94.33636363636364,\n",
       " 'Queen Anne': 185.7810559006211,\n",
       " 'Rainier Valley': 121.12993039443155,\n",
       " 'Magnolia': 169.66257668711657,\n",
       " 'Lake City': 126.46621621621621,\n",
       " 'University District': 107.13725490196079,\n",
       " 'Interbay': 108.02564102564102}"
      ]
     },
     "execution_count": 19,
     "metadata": {},
     "output_type": "execute_result"
    }
   ],
   "source": [
    "neighbourhood_average_price = {}\n",
    "for area in neighbourhood_price.keys():\n",
    "    neighbourhood_average_price[area] = neighbourhood_price[area] / neighbourhood_count[area]\n",
    "neighbourhood_average_price"
   ]
  },
  {
   "cell_type": "code",
   "execution_count": 20,
   "metadata": {},
   "outputs": [
    {
     "data": {
      "text/plain": [
       "Text(0.5, 1.0, 'Histogram of listing prices')"
      ]
     },
     "execution_count": 20,
     "metadata": {},
     "output_type": "execute_result"
    },
    {
     "data": {
      "image/png": "[encoded data removed]",
      "text/plain": [
       "<Figure size 1080x576 with 1 Axes>"
      ]
     },
     "metadata": {
      "needs_background": "light"
     },
     "output_type": "display_data"
    }
   ],
   "source": [
    "df2['price'].hist(bins=50, range=[0, 1200], figsize=(15,8))\n",
    "plt.ylabel('Count')\n",
    "plt.xlabel('Listing price in $')\n",
    "plt.title('Histogram of listing prices')"
   ]
  },
  {
   "cell_type": "code",
   "execution_count": 21,
   "metadata": {},
   "outputs": [
    {
     "data": {
      "text/plain": [
       "Text(0.5, 1.0, 'Neighbourhood vs Average Listing Price in $')"
      ]
     },
     "execution_count": 21,
     "metadata": {},
     "output_type": "execute_result"
    },
    {
     "data": {
      "image/png": "[encoded data removed]",
      "text/plain": [
       "<Figure size 432x288 with 1 Axes>"
      ]
     },
     "metadata": {
      "needs_background": "light"
     },
     "output_type": "display_data"
    }
   ],
   "source": [
    "plt.scatter(neighbourhood_average_price.values(), neighbourhood_average_price.keys())\n",
    "plt.ylabel('Neighbourhood')\n",
    "plt.xlabel('Average Listing Price in $')\n",
    "plt.title('Neighbourhood vs Average Listing Price in $')"
   ]
  },
  {
   "cell_type": "code",
   "execution_count": 22,
   "metadata": {},
   "outputs": [],
   "source": [
    "downtown = []\n",
    "northgate = []\n",
    "cascade = []\n",
    "capitol_hill = []\n",
    "university_district = []\n",
    "queen_anne = []\n",
    "\n",
    "for row in df2.itertuples():\n",
    "    if row[1] == \"Downtown\":\n",
    "        downtown.append(row[3])\n",
    "    if row[1] == \"Northgate\":\n",
    "        northgate.append(row[3])\n",
    "    if row[1] == \"Cascade\":\n",
    "        cascade.append(row[3])\n",
    "    if row[1] == \"Capitol Hill\":\n",
    "        capitol_hill.append(row[3])\n",
    "    if row[1] == \"University District\":\n",
    "        university_district.append(row[3])\n",
    "    if row[1] == \"Queen Anne\":\n",
    "        queen_anne.append(row[3])"
   ]
  },
  {
   "cell_type": "code",
   "execution_count": 23,
   "metadata": {},
   "outputs": [
    {
     "data": {
      "text/plain": [
       "Text(0.5, 1.0, 'Histogram of Listing Prices in Downtown')"
      ]
     },
     "execution_count": 23,
     "metadata": {},
     "output_type": "execute_result"
    },
    {
     "data": {
      "image/png": "[encoded data removed]",
      "text/plain": [
       "<Figure size 864x576 with 1 Axes>"
      ]
     },
     "metadata": {
      "needs_background": "light"
     },
     "output_type": "display_data"
    }
   ],
   "source": [
    "pd.DataFrame(downtown).hist(bins=50, range=[0, 1200], figsize=(12,8))\n",
    "plt.ylabel('Count')\n",
    "plt.xlabel('Listing price in $')\n",
    "plt.title('Histogram of Listing Prices in Downtown')"
   ]
  },
  {
   "cell_type": "code",
   "execution_count": 24,
   "metadata": {},
   "outputs": [
    {
     "data": {
      "text/plain": [
       "Text(0.5, 1.0, 'Histogram of Listing Prices in Northgate')"
      ]
     },
     "execution_count": 24,
     "metadata": {},
     "output_type": "execute_result"
    },
    {
     "data": {
      "image/png": "[encoded data removed]",
      "text/plain": [
       "<Figure size 864x576 with 1 Axes>"
      ]
     },
     "metadata": {
      "needs_background": "light"
     },
     "output_type": "display_data"
    }
   ],
   "source": [
    "pd.DataFrame(northgate).hist(bins=50, range=[0, 1200], figsize=(12,8))\n",
    "plt.ylabel('Count')\n",
    "plt.xlabel('Listing price in $')\n",
    "plt.title('Histogram of Listing Prices in Northgate')"
   ]
  },
  {
   "cell_type": "code",
   "execution_count": 25,
   "metadata": {},
   "outputs": [
    {
     "data": {
      "text/plain": [
       "Text(0.5, 1.0, 'Histogram of Listing Prices in Cascade')"
      ]
     },
     "execution_count": 25,
     "metadata": {},
     "output_type": "execute_result"
    },
    {
     "data": {
      "image/png": "[encoded data removed]",
      "text/plain": [
       "<Figure size 864x576 with 1 Axes>"
      ]
     },
     "metadata": {
      "needs_background": "light"
     },
     "output_type": "display_data"
    }
   ],
   "source": [
    "pd.DataFrame(cascade).hist(bins=50, range=[0, 1200], figsize=(12,8))\n",
    "plt.ylabel('Count')\n",
    "plt.xlabel('Listing price in $')\n",
    "plt.title('Histogram of Listing Prices in Cascade')"
   ]
  },
  {
   "cell_type": "code",
   "execution_count": 26,
   "metadata": {},
   "outputs": [
    {
     "data": {
      "text/plain": [
       "Text(0.5, 1.0, 'Histogram of Listing Prices in Capitol Hill')"
      ]
     },
     "execution_count": 26,
     "metadata": {},
     "output_type": "execute_result"
    },
    {
     "data": {
      "image/png": "[encoded data removed]",
      "text/plain": [
       "<Figure size 864x576 with 1 Axes>"
      ]
     },
     "metadata": {
      "needs_background": "light"
     },
     "output_type": "display_data"
    }
   ],
   "source": [
    "pd.DataFrame(capitol_hill).hist(bins=50, range=[0, 1200], figsize=(12,8))\n",
    "plt.ylabel('Count')\n",
    "plt.xlabel('Listing price in $')\n",
    "plt.title('Histogram of Listing Prices in Capitol Hill')"
   ]
  },
  {
   "cell_type": "code",
   "execution_count": 27,
   "metadata": {},
   "outputs": [
    {
     "data": {
      "text/plain": [
       "Text(0.5, 1.0, 'Histogram of Listing Prices in University District')"
      ]
     },
     "execution_count": 27,
     "metadata": {},
     "output_type": "execute_result"
    },
    {
     "data": {
      "image/png": "[encoded data removed]",
      "text/plain": [
       "<Figure size 864x576 with 1 Axes>"
      ]
     },
     "metadata": {
      "needs_background": "light"
     },
     "output_type": "display_data"
    }
   ],
   "source": [
    "pd.DataFrame(university_district).hist(bins=50, range=[0, 1200], figsize=(12,8))\n",
    "plt.ylabel('Count')\n",
    "plt.xlabel('Listing price in $')\n",
    "plt.title('Histogram of Listing Prices in University District')"
   ]
  },
  {
   "cell_type": "code",
   "execution_count": 28,
   "metadata": {},
   "outputs": [
    {
     "data": {
      "text/plain": [
       "Text(0.5, 1.0, 'Histogram of Listing Prices in Queen Anne')"
      ]
     },
     "execution_count": 28,
     "metadata": {},
     "output_type": "execute_result"
    },
    {
     "data": {
      "image/png": "[encoded data removed]",
      "text/plain": [
       "<Figure size 864x576 with 1 Axes>"
      ]
     },
     "metadata": {
      "needs_background": "light"
     },
     "output_type": "display_data"
    }
   ],
   "source": [
    "pd.DataFrame(queen_anne).hist(bins=50, range=[0, 1200], figsize=(12,8))\n",
    "plt.ylabel('Count')\n",
    "plt.xlabel('Listing price in $')\n",
    "plt.title('Histogram of Listing Prices in Queen Anne')"
   ]
  },
  {
   "cell_type": "code",
   "execution_count": 29,
   "metadata": {},
   "outputs": [
    {
     "data": {
      "text/plain": [
       "Text(0.5, 1.0, 'Numbers of Airbnb in each Neighbourhood')"
      ]
     },
     "execution_count": 29,
     "metadata": {},
     "output_type": "execute_result"
    },
    {
     "data": {
      "image/png": "[encoded data removed]",
      "text/plain": [
       "<Figure size 2160x576 with 1 Axes>"
      ]
     },
     "metadata": {
      "needs_background": "light"
     },
     "output_type": "display_data"
    }
   ],
   "source": [
    "df2['neighbourhood_group'].hist(bins = 17, figsize=(30,8), rwidth=0.5)\n",
    "plt.ylabel('Count')\n",
    "plt.xlabel('Neighbourhood')\n",
    "plt.title('Numbers of Airbnb in each Neighbourhood')"
   ]
  },
  {
   "cell_type": "code",
   "execution_count": 30,
   "metadata": {},
   "outputs": [
    {
     "data": {
      "text/plain": [
       "{'Central Area': 781,\n",
       " 'Delridge': 267,\n",
       " 'Other neighborhoods': 1635,\n",
       " 'Downtown': 1521,\n",
       " 'West Seattle': 482,\n",
       " 'Ballard': 453,\n",
       " 'Capitol Hill': 915,\n",
       " 'Cascade': 418,\n",
       " 'Beacon Hill': 322,\n",
       " 'Seward Park': 83,\n",
       " 'Northgate': 220,\n",
       " 'Queen Anne': 644,\n",
       " 'Rainier Valley': 431,\n",
       " 'Magnolia': 163,\n",
       " 'Lake City': 148,\n",
       " 'University District': 255,\n",
       " 'Interbay': 39}"
      ]
     },
     "execution_count": 30,
     "metadata": {},
     "output_type": "execute_result"
    }
   ],
   "source": [
    "neighbourhood_count"
   ]
  },
  {
   "cell_type": "code",
   "execution_count": 31,
   "metadata": {},
   "outputs": [],
   "source": [
    "df_x = pd.DataFrame(neighbourhood_count.items())"
   ]
  },
  {
   "cell_type": "code",
   "execution_count": 32,
   "metadata": {},
   "outputs": [
    {
     "data": {
      "text/html": [
       "<div>\n",
       "<style scoped>\n",
       "    .dataframe tbody tr th:only-of-type {\n",
       "        vertical-align: middle;\n",
       "    }\n",
       "\n",
       "    .dataframe tbody tr th {\n",
       "        vertical-align: top;\n",
       "    }\n",
       "\n",
       "    .dataframe thead th {\n",
       "        text-align: right;\n",
       "    }\n",
       "</style>\n",
       "<table border=\"1\" class=\"dataframe\">\n",
       "  <thead>\n",
       "    <tr style=\"text-align: right;\">\n",
       "      <th></th>\n",
       "      <th>0</th>\n",
       "      <th>1</th>\n",
       "    </tr>\n",
       "  </thead>\n",
       "  <tbody>\n",
       "    <tr>\n",
       "      <th>0</th>\n",
       "      <td>Central Area</td>\n",
       "      <td>781</td>\n",
       "    </tr>\n",
       "    <tr>\n",
       "      <th>1</th>\n",
       "      <td>Delridge</td>\n",
       "      <td>267</td>\n",
       "    </tr>\n",
       "    <tr>\n",
       "      <th>2</th>\n",
       "      <td>Other neighborhoods</td>\n",
       "      <td>1635</td>\n",
       "    </tr>\n",
       "    <tr>\n",
       "      <th>3</th>\n",
       "      <td>Downtown</td>\n",
       "      <td>1521</td>\n",
       "    </tr>\n",
       "    <tr>\n",
       "      <th>4</th>\n",
       "      <td>West Seattle</td>\n",
       "      <td>482</td>\n",
       "    </tr>\n",
       "    <tr>\n",
       "      <th>5</th>\n",
       "      <td>Ballard</td>\n",
       "      <td>453</td>\n",
       "    </tr>\n",
       "    <tr>\n",
       "      <th>6</th>\n",
       "      <td>Capitol Hill</td>\n",
       "      <td>915</td>\n",
       "    </tr>\n",
       "    <tr>\n",
       "      <th>7</th>\n",
       "      <td>Cascade</td>\n",
       "      <td>418</td>\n",
       "    </tr>\n",
       "    <tr>\n",
       "      <th>8</th>\n",
       "      <td>Beacon Hill</td>\n",
       "      <td>322</td>\n",
       "    </tr>\n",
       "    <tr>\n",
       "      <th>9</th>\n",
       "      <td>Seward Park</td>\n",
       "      <td>83</td>\n",
       "    </tr>\n",
       "    <tr>\n",
       "      <th>10</th>\n",
       "      <td>Northgate</td>\n",
       "      <td>220</td>\n",
       "    </tr>\n",
       "    <tr>\n",
       "      <th>11</th>\n",
       "      <td>Queen Anne</td>\n",
       "      <td>644</td>\n",
       "    </tr>\n",
       "    <tr>\n",
       "      <th>12</th>\n",
       "      <td>Rainier Valley</td>\n",
       "      <td>431</td>\n",
       "    </tr>\n",
       "    <tr>\n",
       "      <th>13</th>\n",
       "      <td>Magnolia</td>\n",
       "      <td>163</td>\n",
       "    </tr>\n",
       "    <tr>\n",
       "      <th>14</th>\n",
       "      <td>Lake City</td>\n",
       "      <td>148</td>\n",
       "    </tr>\n",
       "    <tr>\n",
       "      <th>15</th>\n",
       "      <td>University District</td>\n",
       "      <td>255</td>\n",
       "    </tr>\n",
       "    <tr>\n",
       "      <th>16</th>\n",
       "      <td>Interbay</td>\n",
       "      <td>39</td>\n",
       "    </tr>\n",
       "  </tbody>\n",
       "</table>\n",
       "</div>"
      ],
      "text/plain": [
       "                      0     1\n",
       "0          Central Area   781\n",
       "1              Delridge   267\n",
       "2   Other neighborhoods  1635\n",
       "3              Downtown  1521\n",
       "4          West Seattle   482\n",
       "5               Ballard   453\n",
       "6          Capitol Hill   915\n",
       "7               Cascade   418\n",
       "8           Beacon Hill   322\n",
       "9           Seward Park    83\n",
       "10            Northgate   220\n",
       "11           Queen Anne   644\n",
       "12       Rainier Valley   431\n",
       "13             Magnolia   163\n",
       "14            Lake City   148\n",
       "15  University District   255\n",
       "16             Interbay    39"
      ]
     },
     "execution_count": 32,
     "metadata": {},
     "output_type": "execute_result"
    }
   ],
   "source": [
    "df_x"
   ]
  },
  {
   "cell_type": "code",
   "execution_count": 33,
   "metadata": {},
   "outputs": [],
   "source": [
    "df_y = pd.DataFrame(neighbourhood_average_price.items())"
   ]
  },
  {
   "cell_type": "code",
   "execution_count": 34,
   "metadata": {},
   "outputs": [
    {
     "data": {
      "text/html": [
       "<div>\n",
       "<style scoped>\n",
       "    .dataframe tbody tr th:only-of-type {\n",
       "        vertical-align: middle;\n",
       "    }\n",
       "\n",
       "    .dataframe tbody tr th {\n",
       "        vertical-align: top;\n",
       "    }\n",
       "\n",
       "    .dataframe thead th {\n",
       "        text-align: right;\n",
       "    }\n",
       "</style>\n",
       "<table border=\"1\" class=\"dataframe\">\n",
       "  <thead>\n",
       "    <tr style=\"text-align: right;\">\n",
       "      <th></th>\n",
       "      <th>0</th>\n",
       "      <th>1</th>\n",
       "    </tr>\n",
       "  </thead>\n",
       "  <tbody>\n",
       "    <tr>\n",
       "      <th>0</th>\n",
       "      <td>Central Area</td>\n",
       "      <td>151.924456</td>\n",
       "    </tr>\n",
       "    <tr>\n",
       "      <th>1</th>\n",
       "      <td>Delridge</td>\n",
       "      <td>98.520599</td>\n",
       "    </tr>\n",
       "    <tr>\n",
       "      <th>2</th>\n",
       "      <td>Other neighborhoods</td>\n",
       "      <td>123.248318</td>\n",
       "    </tr>\n",
       "    <tr>\n",
       "      <th>3</th>\n",
       "      <td>Downtown</td>\n",
       "      <td>187.506246</td>\n",
       "    </tr>\n",
       "    <tr>\n",
       "      <th>4</th>\n",
       "      <td>West Seattle</td>\n",
       "      <td>141.421162</td>\n",
       "    </tr>\n",
       "    <tr>\n",
       "      <th>5</th>\n",
       "      <td>Ballard</td>\n",
       "      <td>151.794702</td>\n",
       "    </tr>\n",
       "    <tr>\n",
       "      <th>6</th>\n",
       "      <td>Capitol Hill</td>\n",
       "      <td>148.791257</td>\n",
       "    </tr>\n",
       "    <tr>\n",
       "      <th>7</th>\n",
       "      <td>Cascade</td>\n",
       "      <td>167.648325</td>\n",
       "    </tr>\n",
       "    <tr>\n",
       "      <th>8</th>\n",
       "      <td>Beacon Hill</td>\n",
       "      <td>112.279503</td>\n",
       "    </tr>\n",
       "    <tr>\n",
       "      <th>9</th>\n",
       "      <td>Seward Park</td>\n",
       "      <td>129.397590</td>\n",
       "    </tr>\n",
       "    <tr>\n",
       "      <th>10</th>\n",
       "      <td>Northgate</td>\n",
       "      <td>94.336364</td>\n",
       "    </tr>\n",
       "    <tr>\n",
       "      <th>11</th>\n",
       "      <td>Queen Anne</td>\n",
       "      <td>185.781056</td>\n",
       "    </tr>\n",
       "    <tr>\n",
       "      <th>12</th>\n",
       "      <td>Rainier Valley</td>\n",
       "      <td>121.129930</td>\n",
       "    </tr>\n",
       "    <tr>\n",
       "      <th>13</th>\n",
       "      <td>Magnolia</td>\n",
       "      <td>169.662577</td>\n",
       "    </tr>\n",
       "    <tr>\n",
       "      <th>14</th>\n",
       "      <td>Lake City</td>\n",
       "      <td>126.466216</td>\n",
       "    </tr>\n",
       "    <tr>\n",
       "      <th>15</th>\n",
       "      <td>University District</td>\n",
       "      <td>107.137255</td>\n",
       "    </tr>\n",
       "    <tr>\n",
       "      <th>16</th>\n",
       "      <td>Interbay</td>\n",
       "      <td>108.025641</td>\n",
       "    </tr>\n",
       "  </tbody>\n",
       "</table>\n",
       "</div>"
      ],
      "text/plain": [
       "                      0           1\n",
       "0          Central Area  151.924456\n",
       "1              Delridge   98.520599\n",
       "2   Other neighborhoods  123.248318\n",
       "3              Downtown  187.506246\n",
       "4          West Seattle  141.421162\n",
       "5               Ballard  151.794702\n",
       "6          Capitol Hill  148.791257\n",
       "7               Cascade  167.648325\n",
       "8           Beacon Hill  112.279503\n",
       "9           Seward Park  129.397590\n",
       "10            Northgate   94.336364\n",
       "11           Queen Anne  185.781056\n",
       "12       Rainier Valley  121.129930\n",
       "13             Magnolia  169.662577\n",
       "14            Lake City  126.466216\n",
       "15  University District  107.137255\n",
       "16             Interbay  108.025641"
      ]
     },
     "execution_count": 34,
     "metadata": {},
     "output_type": "execute_result"
    }
   ],
   "source": [
    "df_y"
   ]
  },
  {
   "cell_type": "code",
   "execution_count": 35,
   "metadata": {},
   "outputs": [
    {
     "data": {
      "text/plain": [
       "0.4202464598630854"
      ]
     },
     "execution_count": 35,
     "metadata": {},
     "output_type": "execute_result"
    }
   ],
   "source": [
    "df_x[1].corr(df_y[1])"
   ]
  },
  {
   "cell_type": "code",
   "execution_count": null,
   "metadata": {},
   "outputs": [],
   "source": []
  }
 ],
 "metadata": {
  "kernelspec": {
   "display_name": "Python 3",
   "language": "python",
   "name": "python3"
  },
  "language_info": {
   "codemirror_mode": {
    "name": "ipython",
    "version": 3
   },
   "file_extension": ".py",
   "mimetype": "text/x-python",
   "name": "python",
   "nbconvert_exporter": "python",
   "pygments_lexer": "ipython3",
   "version": "3.7.6"
  }
 },
 "nbformat": 4,
 "nbformat_minor": 2
}
